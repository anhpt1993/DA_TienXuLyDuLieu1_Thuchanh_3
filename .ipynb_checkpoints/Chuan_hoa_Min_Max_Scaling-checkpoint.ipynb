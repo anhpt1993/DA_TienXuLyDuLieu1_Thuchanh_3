{
 "cells": [
  {
   "cell_type": "markdown",
   "id": "753bb16c-22f8-405a-8823-4a9d0cb7d92c",
   "metadata": {},
   "source": [
    "# 0. Khai báo các thư viện cần dùng"
   ]
  },
  {
   "cell_type": "code",
   "execution_count": 1,
   "id": "9c4c2cb1-4339-4bcb-b900-a4a56456402e",
   "metadata": {},
   "outputs": [],
   "source": [
    "import pandas as pd\n",
    "import numpy as np\n",
    "import matplotlib.pyplot as plt\n",
    "import seaborn as sns\n",
    "from sklearn.preprocessing import MinMaxScaler"
   ]
  },
  {
   "cell_type": "markdown",
   "id": "4f301bbb-58e3-4237-bbd7-25ac3d28bbc9",
   "metadata": {},
   "source": [
    "# 1. Khởi tạo dữ liệu"
   ]
  },
  {
   "cell_type": "code",
   "execution_count": 2,
   "id": "68c62429-8367-405f-b83e-6d6694f691d9",
   "metadata": {},
   "outputs": [],
   "source": [
    "# tạo các cột theo các phần phối khác nhau\n",
    "df = pd.DataFrame({ \n",
    "    'beta': np.random.beta(5, 1, 1000) * 60,        # beta\n",
    "    'exponential': np.random.exponential(10, 1000), # exponential\n",
    "    'normal_p': np.random.normal(10, 2, 1000),      # normal platykurtic\n",
    "    'normal_l': np.random.normal(10, 10, 1000),     # normal leptokurtic\n",
    "})"
   ]
  },
  {
   "cell_type": "code",
   "execution_count": 3,
   "id": "ff9bc241-d736-4836-90cc-d8a0e459000f",
   "metadata": {},
   "outputs": [],
   "source": [
    "# thêm dữ liệu được tạo theo phân phối nhị thức\n",
    "first_half = np.random.normal(20, 3, 500) \n",
    "second_half = np.random.normal(-20, 3, 500) \n",
    "bimodal = np.concatenate([first_half, second_half])\n",
    "\n",
    "df['bimodal'] = bimodal"
   ]
  },
  {
   "cell_type": "code",
   "execution_count": 4,
   "id": "20959cb3-3f44-4f4a-a721-94aa211dc396",
   "metadata": {},
   "outputs": [
    {
     "data": {
      "text/html": [
       "<div>\n",
       "<style scoped>\n",
       "    .dataframe tbody tr th:only-of-type {\n",
       "        vertical-align: middle;\n",
       "    }\n",
       "\n",
       "    .dataframe tbody tr th {\n",
       "        vertical-align: top;\n",
       "    }\n",
       "\n",
       "    .dataframe thead th {\n",
       "        text-align: right;\n",
       "    }\n",
       "</style>\n",
       "<table border=\"1\" class=\"dataframe\">\n",
       "  <thead>\n",
       "    <tr style=\"text-align: right;\">\n",
       "      <th></th>\n",
       "      <th>beta</th>\n",
       "      <th>exponential</th>\n",
       "      <th>normal_p</th>\n",
       "      <th>normal_l</th>\n",
       "      <th>bimodal</th>\n",
       "    </tr>\n",
       "  </thead>\n",
       "  <tbody>\n",
       "    <tr>\n",
       "      <th>0</th>\n",
       "      <td>56.012415</td>\n",
       "      <td>14.650661</td>\n",
       "      <td>7.732586</td>\n",
       "      <td>19.253649</td>\n",
       "      <td>24.404430</td>\n",
       "    </tr>\n",
       "    <tr>\n",
       "      <th>1</th>\n",
       "      <td>37.569354</td>\n",
       "      <td>0.891290</td>\n",
       "      <td>6.679797</td>\n",
       "      <td>6.511612</td>\n",
       "      <td>18.100674</td>\n",
       "    </tr>\n",
       "    <tr>\n",
       "      <th>2</th>\n",
       "      <td>54.497352</td>\n",
       "      <td>5.298270</td>\n",
       "      <td>8.280148</td>\n",
       "      <td>21.901735</td>\n",
       "      <td>23.982852</td>\n",
       "    </tr>\n",
       "    <tr>\n",
       "      <th>3</th>\n",
       "      <td>45.026772</td>\n",
       "      <td>33.170406</td>\n",
       "      <td>10.722162</td>\n",
       "      <td>5.555070</td>\n",
       "      <td>19.369227</td>\n",
       "    </tr>\n",
       "    <tr>\n",
       "      <th>4</th>\n",
       "      <td>58.521092</td>\n",
       "      <td>6.131069</td>\n",
       "      <td>12.371045</td>\n",
       "      <td>15.296672</td>\n",
       "      <td>22.106969</td>\n",
       "    </tr>\n",
       "  </tbody>\n",
       "</table>\n",
       "</div>"
      ],
      "text/plain": [
       "        beta  exponential   normal_p   normal_l    bimodal\n",
       "0  56.012415    14.650661   7.732586  19.253649  24.404430\n",
       "1  37.569354     0.891290   6.679797   6.511612  18.100674\n",
       "2  54.497352     5.298270   8.280148  21.901735  23.982852\n",
       "3  45.026772    33.170406  10.722162   5.555070  19.369227\n",
       "4  58.521092     6.131069  12.371045  15.296672  22.106969"
      ]
     },
     "execution_count": 4,
     "metadata": {},
     "output_type": "execute_result"
    }
   ],
   "source": [
    "# Hiển thị dữ liệu\n",
    "df.head()"
   ]
  },
  {
   "cell_type": "markdown",
   "id": "9aca9cac-142e-4885-b74c-35c972832e0f",
   "metadata": {
    "tags": []
   },
   "source": [
    "# 2. Trực quan hoá dữ liệu sinh ra"
   ]
  },
  {
   "cell_type": "code",
   "execution_count": 5,
   "id": "86dc694e-264b-4d32-953a-26c9fca0bc77",
   "metadata": {},
   "outputs": [
    {
     "data": {
      "text/plain": [
       "<AxesSubplot:ylabel='Density'>"
      ]
     },
     "execution_count": 5,
     "metadata": {},
     "output_type": "execute_result"
    },
    {
     "data": {
      "image/png": "[encoded data removed]",
      "text/plain": [
       "<Figure size 432x288 with 1 Axes>"
      ]
     },
     "metadata": {
      "needs_background": "light"
     },
     "output_type": "display_data"
    }
   ],
   "source": [
    "sns.kdeplot(data = df)"
   ]
  },
  {
   "cell_type": "code",
   "execution_count": 6,
   "id": "854e3672-df79-4e50-a581-c6c8cd4fac96",
   "metadata": {},
   "outputs": [
    {
     "data": {
      "text/html": [
       "<div>\n",
       "<style scoped>\n",
       "    .dataframe tbody tr th:only-of-type {\n",
       "        vertical-align: middle;\n",
       "    }\n",
       "\n",
       "    .dataframe tbody tr th {\n",
       "        vertical-align: top;\n",
       "    }\n",
       "\n",
       "    .dataframe thead th {\n",
       "        text-align: right;\n",
       "    }\n",
       "</style>\n",
       "<table border=\"1\" class=\"dataframe\">\n",
       "  <thead>\n",
       "    <tr style=\"text-align: right;\">\n",
       "      <th></th>\n",
       "      <th>beta</th>\n",
       "      <th>exponential</th>\n",
       "      <th>normal_p</th>\n",
       "      <th>normal_l</th>\n",
       "      <th>bimodal</th>\n",
       "    </tr>\n",
       "  </thead>\n",
       "  <tbody>\n",
       "    <tr>\n",
       "      <th>count</th>\n",
       "      <td>1000.000000</td>\n",
       "      <td>1000.000000</td>\n",
       "      <td>1000.000000</td>\n",
       "      <td>1000.000000</td>\n",
       "      <td>1000.000000</td>\n",
       "    </tr>\n",
       "    <tr>\n",
       "      <th>mean</th>\n",
       "      <td>50.036825</td>\n",
       "      <td>10.242560</td>\n",
       "      <td>10.009898</td>\n",
       "      <td>10.081258</td>\n",
       "      <td>0.074561</td>\n",
       "    </tr>\n",
       "    <tr>\n",
       "      <th>std</th>\n",
       "      <td>8.601579</td>\n",
       "      <td>10.261373</td>\n",
       "      <td>1.914158</td>\n",
       "      <td>9.861711</td>\n",
       "      <td>20.075083</td>\n",
       "    </tr>\n",
       "    <tr>\n",
       "      <th>min</th>\n",
       "      <td>11.631968</td>\n",
       "      <td>0.004711</td>\n",
       "      <td>3.787127</td>\n",
       "      <td>-22.367643</td>\n",
       "      <td>-30.956628</td>\n",
       "    </tr>\n",
       "    <tr>\n",
       "      <th>25%</th>\n",
       "      <td>45.886490</td>\n",
       "      <td>2.923323</td>\n",
       "      <td>8.736036</td>\n",
       "      <td>3.611522</td>\n",
       "      <td>-19.615128</td>\n",
       "    </tr>\n",
       "    <tr>\n",
       "      <th>50%</th>\n",
       "      <td>52.585142</td>\n",
       "      <td>6.845900</td>\n",
       "      <td>10.036920</td>\n",
       "      <td>10.213984</td>\n",
       "      <td>1.347630</td>\n",
       "    </tr>\n",
       "    <tr>\n",
       "      <th>75%</th>\n",
       "      <td>56.659997</td>\n",
       "      <td>14.003267</td>\n",
       "      <td>11.260727</td>\n",
       "      <td>17.025248</td>\n",
       "      <td>19.770533</td>\n",
       "    </tr>\n",
       "    <tr>\n",
       "      <th>max</th>\n",
       "      <td>59.984252</td>\n",
       "      <td>76.269893</td>\n",
       "      <td>17.024010</td>\n",
       "      <td>43.212864</td>\n",
       "      <td>28.187902</td>\n",
       "    </tr>\n",
       "  </tbody>\n",
       "</table>\n",
       "</div>"
      ],
      "text/plain": [
       "              beta  exponential     normal_p     normal_l      bimodal\n",
       "count  1000.000000  1000.000000  1000.000000  1000.000000  1000.000000\n",
       "mean     50.036825    10.242560    10.009898    10.081258     0.074561\n",
       "std       8.601579    10.261373     1.914158     9.861711    20.075083\n",
       "min      11.631968     0.004711     3.787127   -22.367643   -30.956628\n",
       "25%      45.886490     2.923323     8.736036     3.611522   -19.615128\n",
       "50%      52.585142     6.845900    10.036920    10.213984     1.347630\n",
       "75%      56.659997    14.003267    11.260727    17.025248    19.770533\n",
       "max      59.984252    76.269893    17.024010    43.212864    28.187902"
      ]
     },
     "execution_count": 6,
     "metadata": {},
     "output_type": "execute_result"
    }
   ],
   "source": [
    "# hiển thị thống kê về dữ liệu sinh ra\n",
    "df.describe()"
   ]
  },
  {
   "cell_type": "code",
   "execution_count": 7,
   "id": "9f8797ea-951f-49a2-92c1-0ac385cd5ed7",
   "metadata": {},
   "outputs": [
    {
     "data": {
      "text/plain": [
       "<AxesSubplot:ylabel='Density'>"
      ]
     },
     "execution_count": 7,
     "metadata": {},
     "output_type": "execute_result"
    },
    {
     "data": {
      "image/png": "[encoded data removed]",
      "text/plain": [
       "<Figure size 432x288 with 1 Axes>"
      ]
     },
     "metadata": {
      "needs_background": "light"
     },
     "output_type": "display_data"
    }
   ],
   "source": [
    "# Thêm một đặc trưng với giá trị lớn hơn nhiều\n",
    "normal_big = np.random.normal(1000000, 10000, (1000,1))  # normal distribution of large values\n",
    "df['normal_big'] = normal_big\n",
    "sns.kdeplot(data=df)"
   ]
  },
  {
   "cell_type": "code",
   "execution_count": 8,
   "id": "1e1f2278-18df-41ac-aa9e-7a041f57a452",
   "metadata": {},
   "outputs": [
    {
     "data": {
      "text/plain": [
       "<AxesSubplot:>"
      ]
     },
     "execution_count": 8,
     "metadata": {},
     "output_type": "execute_result"
    },
    {
     "data": {
      "image/png": "[encoded data removed]",
      "text/plain": [
       "<Figure size 432x288 with 1 Axes>"
      ]
     },
     "metadata": {
      "needs_background": "light"
     },
     "output_type": "display_data"
    }
   ],
   "source": [
    "# Trực quan hoá bằng biểu đồ box plot\n",
    "df.boxplot()"
   ]
  },
  {
   "cell_type": "markdown",
   "id": "8c86446b-611c-4924-a01e-6184575bf7e7",
   "metadata": {},
   "source": [
    "# 3. Chuẩn hoá Min-Max Scaling"
   ]
  },
  {
   "cell_type": "code",
   "execution_count": 9,
   "id": "f80a430c-2802-4d81-bdea-742e4f9d436a",
   "metadata": {},
   "outputs": [],
   "source": [
    "# Khai báo đối tượng MinMaxScaling\n",
    "scaler = MinMaxScaler()"
   ]
  },
  {
   "cell_type": "code",
   "execution_count": 10,
   "id": "30d0123a-3acc-4ef8-ac62-4d1aa3c508ac",
   "metadata": {},
   "outputs": [],
   "source": [
    "# Chuẩn hoá dữ liệu trong df với StandardScaler\n",
    "df_s = scaler.fit_transform(df)\n",
    "\n",
    "# Lấy danh sách cột\n",
    "col_names = list(df.columns)\n",
    "\n",
    "# Chuyển về DataFrame, gán các cột của df cho dữ liệu đã được chuẩn hoá\n",
    "df_s = pd.DataFrame(df_s, columns = col_names)"
   ]
  },
  {
   "cell_type": "code",
   "execution_count": 11,
   "id": "8c087820-bb72-4fef-865a-fea6a0037aad",
   "metadata": {},
   "outputs": [
    {
     "data": {
      "text/html": [
       "<div>\n",
       "<style scoped>\n",
       "    .dataframe tbody tr th:only-of-type {\n",
       "        vertical-align: middle;\n",
       "    }\n",
       "\n",
       "    .dataframe tbody tr th {\n",
       "        vertical-align: top;\n",
       "    }\n",
       "\n",
       "    .dataframe thead th {\n",
       "        text-align: right;\n",
       "    }\n",
       "</style>\n",
       "<table border=\"1\" class=\"dataframe\">\n",
       "  <thead>\n",
       "    <tr style=\"text-align: right;\">\n",
       "      <th></th>\n",
       "      <th>beta</th>\n",
       "      <th>exponential</th>\n",
       "      <th>normal_p</th>\n",
       "      <th>normal_l</th>\n",
       "      <th>bimodal</th>\n",
       "      <th>normal_big</th>\n",
       "    </tr>\n",
       "  </thead>\n",
       "  <tbody>\n",
       "    <tr>\n",
       "      <th>0</th>\n",
       "      <td>0.917856</td>\n",
       "      <td>0.192040</td>\n",
       "      <td>0.298066</td>\n",
       "      <td>0.634660</td>\n",
       "      <td>0.936030</td>\n",
       "      <td>0.374593</td>\n",
       "    </tr>\n",
       "    <tr>\n",
       "      <th>1</th>\n",
       "      <td>0.536425</td>\n",
       "      <td>0.011625</td>\n",
       "      <td>0.218531</td>\n",
       "      <td>0.440363</td>\n",
       "      <td>0.829448</td>\n",
       "      <td>0.335993</td>\n",
       "    </tr>\n",
       "    <tr>\n",
       "      <th>2</th>\n",
       "      <td>0.886522</td>\n",
       "      <td>0.069410</td>\n",
       "      <td>0.339432</td>\n",
       "      <td>0.675039</td>\n",
       "      <td>0.928902</td>\n",
       "      <td>0.506243</td>\n",
       "    </tr>\n",
       "    <tr>\n",
       "      <th>3</th>\n",
       "      <td>0.690656</td>\n",
       "      <td>0.434873</td>\n",
       "      <td>0.523918</td>\n",
       "      <td>0.425778</td>\n",
       "      <td>0.850896</td>\n",
       "      <td>0.391060</td>\n",
       "    </tr>\n",
       "    <tr>\n",
       "      <th>4</th>\n",
       "      <td>0.969740</td>\n",
       "      <td>0.080330</td>\n",
       "      <td>0.648485</td>\n",
       "      <td>0.574322</td>\n",
       "      <td>0.897185</td>\n",
       "      <td>0.281733</td>\n",
       "    </tr>\n",
       "  </tbody>\n",
       "</table>\n",
       "</div>"
      ],
      "text/plain": [
       "       beta  exponential  normal_p  normal_l   bimodal  normal_big\n",
       "0  0.917856     0.192040  0.298066  0.634660  0.936030    0.374593\n",
       "1  0.536425     0.011625  0.218531  0.440363  0.829448    0.335993\n",
       "2  0.886522     0.069410  0.339432  0.675039  0.928902    0.506243\n",
       "3  0.690656     0.434873  0.523918  0.425778  0.850896    0.391060\n",
       "4  0.969740     0.080330  0.648485  0.574322  0.897185    0.281733"
      ]
     },
     "execution_count": 11,
     "metadata": {},
     "output_type": "execute_result"
    }
   ],
   "source": [
    "df_s.head()"
   ]
  },
  {
   "cell_type": "code",
   "execution_count": 12,
   "id": "80a6ba0e-9692-4fe0-bac3-8615d2d031c4",
   "metadata": {},
   "outputs": [
    {
     "data": {
      "text/plain": [
       "<AxesSubplot:ylabel='Density'>"
      ]
     },
     "execution_count": 12,
     "metadata": {},
     "output_type": "execute_result"
    },
    {
     "data": {
      "image/png": "[encoded data removed]",
      "text/plain": [
       "<Figure size 432x288 with 1 Axes>"
      ]
     },
     "metadata": {
      "needs_background": "light"
     },
     "output_type": "display_data"
    }
   ],
   "source": [
    "# Biểu diễn dữ liệu đã được chuẩn hoá\n",
    "sns.kdeplot(data = df_s)"
   ]
  },
  {
   "cell_type": "code",
   "execution_count": 13,
   "id": "edd7605c-fab5-4bce-a079-52c85d1c58e0",
   "metadata": {},
   "outputs": [
    {
     "data": {
      "text/plain": [
       "<AxesSubplot:>"
      ]
     },
     "execution_count": 13,
     "metadata": {},
     "output_type": "execute_result"
    },
    {
     "data": {
      "image/png": "[encoded data removed]",
      "text/plain": [
       "<Figure size 432x288 with 1 Axes>"
      ]
     },
     "metadata": {
      "needs_background": "light"
     },
     "output_type": "display_data"
    }
   ],
   "source": [
    "# Trực quan hoá bằng biểu đồ box plot\n",
    "df_s.boxplot()"
   ]
  },
  {
   "cell_type": "code",
   "execution_count": 14,
   "id": "79d836e8-c8f5-4ea5-97df-4036fe278f96",
   "metadata": {},
   "outputs": [
    {
     "data": {
      "text/html": [
       "<div>\n",
       "<style scoped>\n",
       "    .dataframe tbody tr th:only-of-type {\n",
       "        vertical-align: middle;\n",
       "    }\n",
       "\n",
       "    .dataframe tbody tr th {\n",
       "        vertical-align: top;\n",
       "    }\n",
       "\n",
       "    .dataframe thead th {\n",
       "        text-align: right;\n",
       "    }\n",
       "</style>\n",
       "<table border=\"1\" class=\"dataframe\">\n",
       "  <thead>\n",
       "    <tr style=\"text-align: right;\">\n",
       "      <th></th>\n",
       "      <th>beta</th>\n",
       "      <th>exponential</th>\n",
       "      <th>normal_p</th>\n",
       "      <th>normal_l</th>\n",
       "      <th>bimodal</th>\n",
       "      <th>normal_big</th>\n",
       "    </tr>\n",
       "  </thead>\n",
       "  <tbody>\n",
       "    <tr>\n",
       "      <th>count</th>\n",
       "      <td>1000.000000</td>\n",
       "      <td>1000.000000</td>\n",
       "      <td>1000.000000</td>\n",
       "      <td>1000.000000</td>\n",
       "      <td>1000.000000</td>\n",
       "      <td>1000.000000</td>\n",
       "    </tr>\n",
       "    <tr>\n",
       "      <th>mean</th>\n",
       "      <td>0.794272</td>\n",
       "      <td>0.134240</td>\n",
       "      <td>0.470108</td>\n",
       "      <td>0.494795</td>\n",
       "      <td>0.524667</td>\n",
       "      <td>0.491636</td>\n",
       "    </tr>\n",
       "    <tr>\n",
       "      <th>std</th>\n",
       "      <td>0.177894</td>\n",
       "      <td>0.134549</td>\n",
       "      <td>0.144608</td>\n",
       "      <td>0.150376</td>\n",
       "      <td>0.339424</td>\n",
       "      <td>0.139496</td>\n",
       "    </tr>\n",
       "    <tr>\n",
       "      <th>min</th>\n",
       "      <td>0.000000</td>\n",
       "      <td>0.000000</td>\n",
       "      <td>0.000000</td>\n",
       "      <td>0.000000</td>\n",
       "      <td>0.000000</td>\n",
       "      <td>0.000000</td>\n",
       "    </tr>\n",
       "    <tr>\n",
       "      <th>25%</th>\n",
       "      <td>0.708436</td>\n",
       "      <td>0.038269</td>\n",
       "      <td>0.373873</td>\n",
       "      <td>0.396142</td>\n",
       "      <td>0.191759</td>\n",
       "      <td>0.394340</td>\n",
       "    </tr>\n",
       "    <tr>\n",
       "      <th>50%</th>\n",
       "      <td>0.846975</td>\n",
       "      <td>0.089703</td>\n",
       "      <td>0.472150</td>\n",
       "      <td>0.496819</td>\n",
       "      <td>0.546192</td>\n",
       "      <td>0.490373</td>\n",
       "    </tr>\n",
       "    <tr>\n",
       "      <th>75%</th>\n",
       "      <td>0.931249</td>\n",
       "      <td>0.183551</td>\n",
       "      <td>0.564604</td>\n",
       "      <td>0.600680</td>\n",
       "      <td>0.857681</td>\n",
       "      <td>0.584812</td>\n",
       "    </tr>\n",
       "    <tr>\n",
       "      <th>max</th>\n",
       "      <td>1.000000</td>\n",
       "      <td>1.000000</td>\n",
       "      <td>1.000000</td>\n",
       "      <td>1.000000</td>\n",
       "      <td>1.000000</td>\n",
       "      <td>1.000000</td>\n",
       "    </tr>\n",
       "  </tbody>\n",
       "</table>\n",
       "</div>"
      ],
      "text/plain": [
       "              beta  exponential     normal_p     normal_l      bimodal  \\\n",
       "count  1000.000000  1000.000000  1000.000000  1000.000000  1000.000000   \n",
       "mean      0.794272     0.134240     0.470108     0.494795     0.524667   \n",
       "std       0.177894     0.134549     0.144608     0.150376     0.339424   \n",
       "min       0.000000     0.000000     0.000000     0.000000     0.000000   \n",
       "25%       0.708436     0.038269     0.373873     0.396142     0.191759   \n",
       "50%       0.846975     0.089703     0.472150     0.496819     0.546192   \n",
       "75%       0.931249     0.183551     0.564604     0.600680     0.857681   \n",
       "max       1.000000     1.000000     1.000000     1.000000     1.000000   \n",
       "\n",
       "        normal_big  \n",
       "count  1000.000000  \n",
       "mean      0.491636  \n",
       "std       0.139496  \n",
       "min       0.000000  \n",
       "25%       0.394340  \n",
       "50%       0.490373  \n",
       "75%       0.584812  \n",
       "max       1.000000  "
      ]
     },
     "execution_count": 14,
     "metadata": {},
     "output_type": "execute_result"
    }
   ],
   "source": [
    "# Thống kê dữ liệu được sinh ra\n",
    "df_s.describe()"
   ]
  },
  {
   "cell_type": "code",
   "execution_count": 15,
   "id": "c6c6d72b-0a5d-484b-84e1-f0502c0d4678",
   "metadata": {},
   "outputs": [
    {
     "data": {
      "text/plain": [
       "0.0"
      ]
     },
     "execution_count": 15,
     "metadata": {},
     "output_type": "execute_result"
    }
   ],
   "source": [
    "# Lấy giá trị min của cột beta\n",
    "df_s.beta.min()"
   ]
  },
  {
   "cell_type": "code",
   "execution_count": 16,
   "id": "0eef9c2c-e093-4d83-88b8-ddf8a2d9e76c",
   "metadata": {},
   "outputs": [
    {
     "data": {
      "text/plain": [
       "1.0000000000000002"
      ]
     },
     "execution_count": 16,
     "metadata": {},
     "output_type": "execute_result"
    }
   ],
   "source": [
    "# Lấy giá trị max của cột beta\n",
    "df_s.beta.max()"
   ]
  },
  {
   "cell_type": "code",
   "execution_count": 17,
   "id": "9aa32e37-ce32-48c1-88ad-51ef3a18ed10",
   "metadata": {},
   "outputs": [
    {
     "data": {
      "text/plain": [
       "[11.631968026081942,\n",
       " 0.004711413510474768,\n",
       " 3.7871266826343097,\n",
       " -22.367643310024825,\n",
       " -30.956628347596194,\n",
       " 964985.0169999367]"
      ]
     },
     "execution_count": 17,
     "metadata": {},
     "output_type": "execute_result"
    }
   ],
   "source": [
    "# In các giá trị min của từng cột trong dữ liệu chưa được chuẩn hoá\n",
    "mins = [df[col].min() for col in df.columns]\n",
    "mins"
   ]
  },
  {
   "cell_type": "code",
   "execution_count": 18,
   "id": "4183312e-79eb-45e5-b2c7-934697de6d15",
   "metadata": {},
   "outputs": [
    {
     "data": {
      "text/plain": [
       "[1.0000000000000002, 1.0000000000000002, 1.0, 1.0, 1.0, 1.0]"
      ]
     },
     "execution_count": 18,
     "metadata": {},
     "output_type": "execute_result"
    }
   ],
   "source": [
    "# In các giá trị min của từng cột trong dữ liệu đã được chuẩn hoá\n",
    "mins = [df_s[col].max() for col in df_s.columns]\n",
    "mins"
   ]
  },
  {
   "cell_type": "code",
   "execution_count": 19,
   "id": "5c7fa3c5-5d52-4493-b93a-006e2eb2e78d",
   "metadata": {},
   "outputs": [
    {
     "data": {
      "text/plain": [
       "[59.98425181620782,\n",
       " 76.26989305147058,\n",
       " 17.024010135949034,\n",
       " 43.21286400612348,\n",
       " 28.187902164507655,\n",
       " 1035439.0780357884]"
      ]
     },
     "execution_count": 19,
     "metadata": {},
     "output_type": "execute_result"
    }
   ],
   "source": [
    "# In các giá trị max của từng cột trong dữ liệu chưa được chuẩn hoá\n",
    "maxs = [df[col].max() for col in df.columns]\n",
    "maxs"
   ]
  },
  {
   "cell_type": "code",
   "execution_count": 20,
   "id": "f819092a-ef5c-44f4-a893-2e2f139f9426",
   "metadata": {},
   "outputs": [
    {
     "data": {
      "text/plain": [
       "[1.0000000000000002, 1.0000000000000002, 1.0, 1.0, 1.0, 1.0]"
      ]
     },
     "execution_count": 20,
     "metadata": {},
     "output_type": "execute_result"
    }
   ],
   "source": [
    "# In các giá trị max của từng cột trong dữ liệu đã được chuẩn hoá\n",
    "maxs = [df_s[col].max() for col in df_s.columns]\n",
    "maxs"
   ]
  }
 ],
 "metadata": {
  "kernelspec": {
   "display_name": "Python 3 (ipykernel)",
   "language": "python",
   "name": "python3"
  },
  "language_info": {
   "codemirror_mode": {
    "name": "ipython",
    "version": 3
   },
   "file_extension": ".py",
   "mimetype": "text/x-python",
   "name": "python",
   "nbconvert_exporter": "python",
   "pygments_lexer": "ipython3",
   "version": "3.10.1"
  }
 },
 "nbformat": 4,
 "nbformat_minor": 5
}
